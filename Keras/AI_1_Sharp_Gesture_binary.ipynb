{
 "cells": [
  {
   "cell_type": "code",
   "execution_count": 1,
   "id": "69f4bf41",
   "metadata": {},
   "outputs": [],
   "source": [
    "import numpy as np\n",
    "\n",
    "f = open('capture_AI_1.txt','r')\n",
    "\n",
    "train_values = []\n",
    "train_results = []\n",
    "\n",
    "test_values = []\n",
    "test_results = []\n",
    "\n",
    "line_count = 0\n",
    "record_count = 0\n",
    "\n",
    "for line in f:\n",
    "    line_count += 1\n",
    "    fields = line.strip().split(',')\n",
    "    if (record_count % 10) > 0:\n",
    "        if line_count % 2 == 1:\n",
    "            train_values.append(fields)            \n",
    "        elif line_count % 2 == 0:   \n",
    "            train_results.append(int(fields[0]))\n",
    "            record_count += 1;\n",
    "    elif (record_count % 10) == 0:\n",
    "        if line_count % 2 == 1:\n",
    "            test_values.append(fields)            \n",
    "        elif line_count % 2 == 0:   \n",
    "            test_results.append(int(fields[0]))\n",
    "            record_count += 1;\n",
    "        \n",
    "f.close()"
   ]
  },
  {
   "cell_type": "code",
   "execution_count": 5,
   "id": "d8f3038f",
   "metadata": {},
   "outputs": [
    {
     "data": {
      "text/plain": [
       "26"
      ]
     },
     "execution_count": 5,
     "metadata": {},
     "output_type": "execute_result"
    }
   ],
   "source": [
    "len(train_values)\n",
    "len(test_values)"
   ]
  },
  {
   "cell_type": "code",
   "execution_count": 8,
   "id": "01c3b8d3",
   "metadata": {},
   "outputs": [],
   "source": [
    "train_data = []\n",
    "train_labels = []\n",
    "test_data = []\n",
    "test_labels = []\n",
    "\n",
    "train_data = np.array(train_values).astype('float32')\n",
    "train_labels = np.array(train_results).astype('float32')\n",
    "\n",
    "test_data = np.array(test_values).astype('float32') \n",
    "test_labels = np.array(test_results).astype('float32')\n",
    "\n",
    "max_dis = 80\n",
    "train_data /= max_dis\n",
    "test_data /= max_dis"
   ]
  },
  {
   "cell_type": "code",
   "execution_count": 5,
   "id": "f36c0076",
   "metadata": {},
   "outputs": [
    {
     "data": {
      "text/plain": [
       "array([0., 0., 0., 0., 0., 1., 1., 0., 1., 1., 0., 0., 1., 0., 1., 0., 1.,\n",
       "       0., 0., 1., 0., 1., 0., 1., 0., 1., 0., 0., 0., 1., 0., 1., 0., 1.,\n",
       "       0., 1., 0., 0., 0., 0., 0., 0., 1., 0., 1., 0., 1., 0., 0., 1., 0.,\n",
       "       0., 1., 0., 0., 0., 1., 0., 1., 0., 0., 0., 1., 1., 0., 0., 0., 0.,\n",
       "       0., 1., 0., 1., 1., 0., 1., 0., 0., 0., 1., 1., 0., 1., 0., 0., 0.,\n",
       "       1., 0., 0., 0., 1., 0., 0., 1., 0., 1., 0., 1., 0., 0., 1., 0., 0.,\n",
       "       0., 0., 1., 0., 0., 0., 0., 1., 0., 1., 0., 0., 0., 0., 0., 0., 0.,\n",
       "       1., 0., 1., 0., 1., 0., 0., 0., 0., 0., 0., 0., 0., 0., 0., 0., 0.,\n",
       "       0., 1., 0., 0., 0., 0., 0., 0., 1., 0., 0., 1., 1., 0., 0., 0., 1.,\n",
       "       0., 0., 0., 0., 0., 0., 0., 0., 0., 0., 0., 0., 1., 0., 0., 1., 0.,\n",
       "       0., 0., 0., 1., 1., 0., 0., 0., 1., 0., 0., 0., 0., 0., 0., 0., 0.,\n",
       "       0., 0., 0., 1., 0., 0., 0., 0., 0., 1., 0., 1., 0., 0., 0., 0., 0.,\n",
       "       0., 1., 0., 0., 0., 0., 0., 1., 0., 0., 0., 0., 0., 1., 0., 1., 0.,\n",
       "       1., 0., 0., 1., 0., 1., 1., 0., 0., 0., 0.], dtype=float32)"
      ]
     },
     "execution_count": 5,
     "metadata": {},
     "output_type": "execute_result"
    }
   ],
   "source": [
    "train_labels"
   ]
  },
  {
   "cell_type": "code",
   "execution_count": 25,
   "id": "b1ba7a16",
   "metadata": {},
   "outputs": [
    {
     "name": "stdout",
     "output_type": "stream",
     "text": [
      "Epoch 1/50\n",
      "29/29 [==============================] - 0s 993us/step - loss: 0.5436 - accuracy: 0.7155\n",
      "Epoch 2/50\n",
      "29/29 [==============================] - 0s 758us/step - loss: 0.5018 - accuracy: 0.7241\n",
      "Epoch 3/50\n",
      "29/29 [==============================] - 0s 759us/step - loss: 0.4895 - accuracy: 0.7241\n",
      "Epoch 4/50\n",
      "29/29 [==============================] - 0s 736us/step - loss: 0.4857 - accuracy: 0.7284\n",
      "Epoch 5/50\n",
      "29/29 [==============================] - 0s 724us/step - loss: 0.4749 - accuracy: 0.7241\n",
      "Epoch 6/50\n",
      "29/29 [==============================] - 0s 724us/step - loss: 0.4658 - accuracy: 0.7284\n",
      "Epoch 7/50\n",
      "29/29 [==============================] - 0s 827us/step - loss: 0.4547 - accuracy: 0.7198\n",
      "Epoch 8/50\n",
      "29/29 [==============================] - 0s 724us/step - loss: 0.4520 - accuracy: 0.7414\n",
      "Epoch 9/50\n",
      "29/29 [==============================] - 0s 758us/step - loss: 0.4391 - accuracy: 0.7457\n",
      "Epoch 10/50\n",
      "29/29 [==============================] - 0s 765us/step - loss: 0.4345 - accuracy: 0.7500\n",
      "Epoch 11/50\n",
      "29/29 [==============================] - 0s 758us/step - loss: 0.4298 - accuracy: 0.7716\n",
      "Epoch 12/50\n",
      "29/29 [==============================] - 0s 758us/step - loss: 0.4190 - accuracy: 0.7888\n",
      "Epoch 13/50\n",
      "29/29 [==============================] - 0s 689us/step - loss: 0.4094 - accuracy: 0.7888\n",
      "Epoch 14/50\n",
      "29/29 [==============================] - 0s 724us/step - loss: 0.4080 - accuracy: 0.7845\n",
      "Epoch 15/50\n",
      "29/29 [==============================] - 0s 689us/step - loss: 0.4020 - accuracy: 0.7888\n",
      "Epoch 16/50\n",
      "29/29 [==============================] - 0s 758us/step - loss: 0.3864 - accuracy: 0.8405\n",
      "Epoch 17/50\n",
      "29/29 [==============================] - 0s 689us/step - loss: 0.3935 - accuracy: 0.8103\n",
      "Epoch 18/50\n",
      "29/29 [==============================] - 0s 862us/step - loss: 0.3797 - accuracy: 0.8190\n",
      "Epoch 19/50\n",
      "29/29 [==============================] - 0s 758us/step - loss: 0.3755 - accuracy: 0.8147\n",
      "Epoch 20/50\n",
      "29/29 [==============================] - 0s 758us/step - loss: 0.3638 - accuracy: 0.8190\n",
      "Epoch 21/50\n",
      "29/29 [==============================] - 0s 724us/step - loss: 0.3703 - accuracy: 0.8147\n",
      "Epoch 22/50\n",
      "29/29 [==============================] - 0s 827us/step - loss: 0.3629 - accuracy: 0.8405\n",
      "Epoch 23/50\n",
      "29/29 [==============================] - 0s 724us/step - loss: 0.3540 - accuracy: 0.8448\n",
      "Epoch 24/50\n",
      "29/29 [==============================] - 0s 724us/step - loss: 0.3510 - accuracy: 0.8405\n",
      "Epoch 25/50\n",
      "29/29 [==============================] - 0s 827us/step - loss: 0.3520 - accuracy: 0.8448\n",
      "Epoch 26/50\n",
      "29/29 [==============================] - 0s 724us/step - loss: 0.3462 - accuracy: 0.8491\n",
      "Epoch 27/50\n",
      "29/29 [==============================] - 0s 724us/step - loss: 0.3375 - accuracy: 0.8664\n",
      "Epoch 28/50\n",
      "29/29 [==============================] - 0s 758us/step - loss: 0.3390 - accuracy: 0.8448\n",
      "Epoch 29/50\n",
      "29/29 [==============================] - 0s 758us/step - loss: 0.3363 - accuracy: 0.8664\n",
      "Epoch 30/50\n",
      "29/29 [==============================] - 0s 724us/step - loss: 0.3272 - accuracy: 0.8578\n",
      "Epoch 31/50\n",
      "29/29 [==============================] - 0s 724us/step - loss: 0.3295 - accuracy: 0.8448\n",
      "Epoch 32/50\n",
      "29/29 [==============================] - 0s 793us/step - loss: 0.3258 - accuracy: 0.8750\n",
      "Epoch 33/50\n",
      "29/29 [==============================] - 0s 654us/step - loss: 0.3195 - accuracy: 0.8707\n",
      "Epoch 34/50\n",
      "29/29 [==============================] - 0s 793us/step - loss: 0.3187 - accuracy: 0.8707\n",
      "Epoch 35/50\n",
      "29/29 [==============================] - 0s 760us/step - loss: 0.3138 - accuracy: 0.8664\n",
      "Epoch 36/50\n",
      "29/29 [==============================] - 0s 689us/step - loss: 0.3035 - accuracy: 0.8664\n",
      "Epoch 37/50\n",
      "29/29 [==============================] - 0s 689us/step - loss: 0.3084 - accuracy: 0.8750\n",
      "Epoch 38/50\n",
      "29/29 [==============================] - 0s 724us/step - loss: 0.3072 - accuracy: 0.8750\n",
      "Epoch 39/50\n",
      "29/29 [==============================] - 0s 758us/step - loss: 0.3039 - accuracy: 0.8750\n",
      "Epoch 40/50\n",
      "29/29 [==============================] - 0s 758us/step - loss: 0.3035 - accuracy: 0.8664\n",
      "Epoch 41/50\n",
      "29/29 [==============================] - 0s 689us/step - loss: 0.2993 - accuracy: 0.8664\n",
      "Epoch 42/50\n",
      "29/29 [==============================] - 0s 758us/step - loss: 0.2982 - accuracy: 0.8707\n",
      "Epoch 43/50\n",
      "29/29 [==============================] - 0s 724us/step - loss: 0.2894 - accuracy: 0.8836\n",
      "Epoch 44/50\n",
      "29/29 [==============================] - 0s 689us/step - loss: 0.2939 - accuracy: 0.8707\n",
      "Epoch 45/50\n",
      "29/29 [==============================] - 0s 724us/step - loss: 0.2908 - accuracy: 0.8793\n",
      "Epoch 46/50\n",
      "29/29 [==============================] - 0s 689us/step - loss: 0.2876 - accuracy: 0.9009\n",
      "Epoch 47/50\n",
      "29/29 [==============================] - 0s 793us/step - loss: 0.2808 - accuracy: 0.8922\n",
      "Epoch 48/50\n",
      "29/29 [==============================] - 0s 655us/step - loss: 0.2824 - accuracy: 0.8707\n",
      "Epoch 49/50\n",
      "29/29 [==============================] - 0s 793us/step - loss: 0.2806 - accuracy: 0.8879\n",
      "Epoch 50/50\n",
      "29/29 [==============================] - 0s 912us/step - loss: 0.2797 - accuracy: 0.8879\n",
      "WARNING:tensorflow:11 out of the last 11 calls to <function Model.make_test_function.<locals>.test_function at 0x0000011477345C10> triggered tf.function retracing. Tracing is expensive and the excessive number of tracings could be due to (1) creating @tf.function repeatedly in a loop, (2) passing tensors with different shapes, (3) passing Python objects instead of tensors. For (1), please define your @tf.function outside of the loop. For (2), @tf.function has experimental_relax_shapes=True option that relaxes argument shapes that can avoid unnecessary retracing. For (3), please refer to https://www.tensorflow.org/tutorials/customization/performance#python_or_tensor_args and https://www.tensorflow.org/api_docs/python/tf/function for  more details.\n",
      "1/1 [==============================] - 0s 0s/step - loss: 0.2490 - accuracy: 0.9231\n"
     ]
    }
   ],
   "source": [
    "from keras import models\n",
    "from keras import layers\n",
    "\n",
    "model = models.Sequential()\n",
    "model.add(layers.Dense(16, activation='relu', input_shape=(64,)))\n",
    "model.add(layers.Dense(16, activation='relu'))\n",
    "model.add(layers.Dense(1, activation='sigmoid'))\n",
    "\n",
    "model.compile(optimizer='rmsprop', loss='binary_crossentropy', metrics=['accuracy'])\n",
    "model.fit(train_data, train_labels, epochs=50, batch_size=8)\n",
    "\n",
    "results = model.evaluate(test_data, test_labels)"
   ]
  },
  {
   "cell_type": "code",
   "execution_count": 26,
   "id": "78299c41",
   "metadata": {},
   "outputs": [],
   "source": [
    "model.save('data_AI_1.h5')"
   ]
  }
 ],
 "metadata": {
  "kernelspec": {
   "display_name": "Python 3",
   "language": "python",
   "name": "python3"
  },
  "language_info": {
   "codemirror_mode": {
    "name": "ipython",
    "version": 3
   },
   "file_extension": ".py",
   "mimetype": "text/x-python",
   "name": "python",
   "nbconvert_exporter": "python",
   "pygments_lexer": "ipython3",
   "version": "3.8.8"
  }
 },
 "nbformat": 4,
 "nbformat_minor": 5
}
